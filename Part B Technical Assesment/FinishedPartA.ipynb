{
 "cells": [
  {
   "cell_type": "code",
   "execution_count": 1,
   "metadata": {},
   "outputs": [
    {
     "name": "stdout",
     "output_type": "stream",
     "text": [
      "Requirement already satisfied: pandas in /opt/anaconda3/lib/python3.8/site-packages (1.1.3)\n",
      "Requirement already satisfied: numpy>=1.15.4 in /opt/anaconda3/lib/python3.8/site-packages (from pandas) (1.19.2)\n",
      "Requirement already satisfied: pytz>=2017.2 in /opt/anaconda3/lib/python3.8/site-packages (from pandas) (2020.1)\n",
      "Requirement already satisfied: python-dateutil>=2.7.3 in /opt/anaconda3/lib/python3.8/site-packages (from pandas) (2.8.1)\n",
      "Requirement already satisfied: six>=1.5 in /opt/anaconda3/lib/python3.8/site-packages (from python-dateutil>=2.7.3->pandas) (1.15.0)\n",
      "Note: you may need to restart the kernel to use updated packages.\n"
     ]
    }
   ],
   "source": [
    "pip install pandas"
   ]
  },
  {
   "cell_type": "code",
   "execution_count": 2,
   "metadata": {},
   "outputs": [],
   "source": [
    "import pandas as pd"
   ]
  },
  {
   "cell_type": "code",
   "execution_count": 3,
   "metadata": {},
   "outputs": [],
   "source": [
    "import json"
   ]
  },
  {
   "cell_type": "code",
   "execution_count": 4,
   "metadata": {},
   "outputs": [],
   "source": [
    "import requests"
   ]
  },
  {
   "cell_type": "markdown",
   "metadata": {},
   "source": [
    "# Question 1 "
   ]
  },
  {
   "cell_type": "markdown",
   "metadata": {},
   "source": [
    "# 1.1"
   ]
  },
  {
   "cell_type": "code",
   "execution_count": 5,
   "metadata": {},
   "outputs": [],
   "source": [
    "Blockchain = requests.get(\"https://api.whatsonchain.com/v1/bsv/main/block/height/657151\")"
   ]
  },
  {
   "cell_type": "code",
   "execution_count": 6,
   "metadata": {},
   "outputs": [],
   "source": [
    "MyBlock= json.loads(Blockchain.text)"
   ]
  },
  {
   "cell_type": "code",
   "execution_count": 7,
   "metadata": {},
   "outputs": [
    {
     "name": "stdout",
     "output_type": "stream",
     "text": [
      "20537\n"
     ]
    }
   ],
   "source": [
    "print (MyBlock['txcount'])"
   ]
  },
  {
   "cell_type": "markdown",
   "metadata": {},
   "source": [
    "'Tx Count' counts the number of transactions that have taken place before this one on the Bitcoin blockchain. My transaction was the 20,537th transaction to occur on the chain."
   ]
  },
  {
   "cell_type": "code",
   "execution_count": 8,
   "metadata": {},
   "outputs": [],
   "source": [
    "import datetime"
   ]
  },
  {
   "cell_type": "code",
   "execution_count": 9,
   "metadata": {},
   "outputs": [],
   "source": [
    "timestamp= datetime.datetime.fromtimestamp(MyBlock['time'])"
   ]
  },
  {
   "cell_type": "code",
   "execution_count": 10,
   "metadata": {},
   "outputs": [
    {
     "name": "stdout",
     "output_type": "stream",
     "text": [
      "2020-10-16 18:48:59\n"
     ]
    }
   ],
   "source": [
    "print(timestamp.strftime('%Y-%m-%d %H:%M:%S'))"
   ]
  },
  {
   "cell_type": "markdown",
   "metadata": {},
   "source": [
    "Time is simply the time that the transaction took place"
   ]
  },
  {
   "cell_type": "code",
   "execution_count": 11,
   "metadata": {},
   "outputs": [
    {
     "name": "stdout",
     "output_type": "stream",
     "text": [
      "0.05484693000000007\n"
     ]
    }
   ],
   "source": [
    "print (MyBlock['totalFees'])"
   ]
  },
  {
   "cell_type": "markdown",
   "metadata": {},
   "source": [
    "'Total Fees' is the amount that it cost to facilitate this transaction, or it is the amount that is paid to the miners"
   ]
  },
  {
   "cell_type": "code",
   "execution_count": 12,
   "metadata": {},
   "outputs": [
    {
     "name": "stdout",
     "output_type": "stream",
     "text": [
      "11082\n"
     ]
    }
   ],
   "source": [
    "print (MyBlock['confirmations'])"
   ]
  },
  {
   "cell_type": "markdown",
   "metadata": {},
   "source": [
    "'Confirmations' is the number of times that another block is placed after this one on the Bitcoin Blockchain"
   ]
  },
  {
   "cell_type": "code",
   "execution_count": 13,
   "metadata": {},
   "outputs": [
    {
     "name": "stdout",
     "output_type": "stream",
     "text": [
      "taal.com\n"
     ]
    }
   ],
   "source": [
    "print (MyBlock['miner'])"
   ]
  },
  {
   "cell_type": "markdown",
   "metadata": {},
   "source": [
    "'Miner' is simply the name of the miner or mining pool that mined the block"
   ]
  },
  {
   "cell_type": "markdown",
   "metadata": {},
   "source": [
    "# 1.2 Famous Blocks"
   ]
  },
  {
   "cell_type": "markdown",
   "metadata": {},
   "source": [
    "# Hal Finney Block"
   ]
  },
  {
   "cell_type": "code",
   "execution_count": 14,
   "metadata": {},
   "outputs": [],
   "source": [
    "Blockchain1 = requests.get(\"https://api.whatsonchain.com/v1/bsv/main/block/height/170\")"
   ]
  },
  {
   "cell_type": "code",
   "execution_count": 15,
   "metadata": {},
   "outputs": [],
   "source": [
    "HalFinneyBlock= json.loads(Blockchain1.text)"
   ]
  },
  {
   "cell_type": "code",
   "execution_count": 16,
   "metadata": {},
   "outputs": [],
   "source": [
    "HalFinneyTime= datetime.datetime.fromtimestamp(HalFinneyBlock['time'])"
   ]
  },
  {
   "cell_type": "code",
   "execution_count": 17,
   "metadata": {},
   "outputs": [
    {
     "name": "stdout",
     "output_type": "stream",
     "text": [
      "2009-01-12 03:30:25\n"
     ]
    }
   ],
   "source": [
    "print(HalFinneyTime.strftime('%Y-%m-%d %H:%M:%S'))"
   ]
  },
  {
   "cell_type": "markdown",
   "metadata": {},
   "source": [
    "# Pizza Block"
   ]
  },
  {
   "cell_type": "code",
   "execution_count": 18,
   "metadata": {},
   "outputs": [],
   "source": [
    "Blockchain2 = requests.get(\"https://api.whatsonchain.com/v1/bsv/main/block/height/57043\")"
   ]
  },
  {
   "cell_type": "code",
   "execution_count": 19,
   "metadata": {},
   "outputs": [],
   "source": [
    "PizzaBlock= json.loads(Blockchain2.text)"
   ]
  },
  {
   "cell_type": "code",
   "execution_count": 20,
   "metadata": {},
   "outputs": [],
   "source": [
    "PizzaBlockTime= datetime.datetime.fromtimestamp(PizzaBlock['time'])"
   ]
  },
  {
   "cell_type": "code",
   "execution_count": 21,
   "metadata": {},
   "outputs": [
    {
     "name": "stdout",
     "output_type": "stream",
     "text": [
      "2010-05-22 19:16:31\n"
     ]
    }
   ],
   "source": [
    "print(PizzaBlockTime.strftime('%Y-%m-%d %H:%M:%S'))"
   ]
  },
  {
   "cell_type": "markdown",
   "metadata": {},
   "source": [
    "# Question 2"
   ]
  },
  {
   "cell_type": "markdown",
   "metadata": {},
   "source": [
    "# Time series investigation of Bitcoin Price"
   ]
  },
  {
   "cell_type": "markdown",
   "metadata": {},
   "source": [
    "# 2.1"
   ]
  },
  {
   "cell_type": "code",
   "execution_count": 22,
   "metadata": {},
   "outputs": [
    {
     "name": "stdout",
     "output_type": "stream",
     "text": [
      "Requirement already satisfied: fredapi in /opt/anaconda3/lib/python3.8/site-packages (0.4.2)\n",
      "Requirement already satisfied: pandas in /opt/anaconda3/lib/python3.8/site-packages (from fredapi) (1.1.3)\n",
      "Requirement already satisfied: numpy>=1.15.4 in /opt/anaconda3/lib/python3.8/site-packages (from pandas->fredapi) (1.19.2)\n",
      "Requirement already satisfied: python-dateutil>=2.7.3 in /opt/anaconda3/lib/python3.8/site-packages (from pandas->fredapi) (2.8.1)\n",
      "Requirement already satisfied: pytz>=2017.2 in /opt/anaconda3/lib/python3.8/site-packages (from pandas->fredapi) (2020.1)\n",
      "Requirement already satisfied: six>=1.5 in /opt/anaconda3/lib/python3.8/site-packages (from python-dateutil>=2.7.3->pandas->fredapi) (1.15.0)\n",
      "Note: you may need to restart the kernel to use updated packages.\n"
     ]
    }
   ],
   "source": [
    "pip install fredapi"
   ]
  },
  {
   "cell_type": "code",
   "execution_count": 23,
   "metadata": {},
   "outputs": [],
   "source": [
    "from fredapi import Fred"
   ]
  },
  {
   "cell_type": "code",
   "execution_count": 24,
   "metadata": {},
   "outputs": [],
   "source": [
    "fred= Fred(api_key='04cd69bf4695c14ac7bce72969b5ae96')"
   ]
  },
  {
   "cell_type": "code",
   "execution_count": 25,
   "metadata": {},
   "outputs": [],
   "source": [
    "BitcoinPrice = fred.get_series('CBBTCUSD')"
   ]
  },
  {
   "cell_type": "code",
   "execution_count": 26,
   "metadata": {},
   "outputs": [
    {
     "name": "stdout",
     "output_type": "stream",
     "text": [
      "Requirement already satisfied: matplotlib in /opt/anaconda3/lib/python3.8/site-packages (3.3.2)\n",
      "Requirement already satisfied: python-dateutil>=2.1 in /opt/anaconda3/lib/python3.8/site-packages (from matplotlib) (2.8.1)\n",
      "Requirement already satisfied: numpy>=1.15 in /opt/anaconda3/lib/python3.8/site-packages (from matplotlib) (1.19.2)\n",
      "Requirement already satisfied: kiwisolver>=1.0.1 in /opt/anaconda3/lib/python3.8/site-packages (from matplotlib) (1.3.0)\n",
      "Requirement already satisfied: certifi>=2020.06.20 in /opt/anaconda3/lib/python3.8/site-packages (from matplotlib) (2020.6.20)\n",
      "Requirement already satisfied: cycler>=0.10 in /opt/anaconda3/lib/python3.8/site-packages (from matplotlib) (0.10.0)\n",
      "Requirement already satisfied: pillow>=6.2.0 in /opt/anaconda3/lib/python3.8/site-packages (from matplotlib) (8.0.1)\n",
      "Requirement already satisfied: pyparsing!=2.0.4,!=2.1.2,!=2.1.6,>=2.0.3 in /opt/anaconda3/lib/python3.8/site-packages (from matplotlib) (2.4.7)\n",
      "Requirement already satisfied: six>=1.5 in /opt/anaconda3/lib/python3.8/site-packages (from python-dateutil>=2.1->matplotlib) (1.15.0)\n",
      "Note: you may need to restart the kernel to use updated packages.\n"
     ]
    }
   ],
   "source": [
    "pip install matplotlib"
   ]
  },
  {
   "cell_type": "code",
   "execution_count": 27,
   "metadata": {},
   "outputs": [],
   "source": [
    "import matplotlib as mplt"
   ]
  },
  {
   "cell_type": "code",
   "execution_count": 28,
   "metadata": {},
   "outputs": [
    {
     "data": {
      "text/plain": [
       "<AxesSubplot:>"
      ]
     },
     "execution_count": 28,
     "metadata": {},
     "output_type": "execute_result"
    },
    {
     "data": {
      "image/png": "[encoded data removed]",
      "text/plain": [
       "<Figure size 432x288 with 1 Axes>"
      ]
     },
     "metadata": {
      "needs_background": "light"
     },
     "output_type": "display_data"
    }
   ],
   "source": [
    "BitcoinPrice.plot()"
   ]
  },
  {
   "cell_type": "code",
   "execution_count": 29,
   "metadata": {},
   "outputs": [],
   "source": [
    "GoldPrice = fred.get_series('ID7108')"
   ]
  },
  {
   "cell_type": "code",
   "execution_count": 30,
   "metadata": {},
   "outputs": [
    {
     "data": {
      "text/plain": [
       "<AxesSubplot:>"
      ]
     },
     "execution_count": 30,
     "metadata": {},
     "output_type": "execute_result"
    },
    {
     "data": {
      "image/png": "[encoded data removed]",
      "text/plain": [
       "<Figure size 432x288 with 1 Axes>"
      ]
     },
     "metadata": {
      "needs_background": "light"
     },
     "output_type": "display_data"
    }
   ],
   "source": [
    "GoldPrice.plot()"
   ]
  },
  {
   "cell_type": "code",
   "execution_count": 31,
   "metadata": {},
   "outputs": [],
   "source": [
    "SP500Market = fred.get_series('SP500')"
   ]
  },
  {
   "cell_type": "code",
   "execution_count": 32,
   "metadata": {},
   "outputs": [
    {
     "data": {
      "text/plain": [
       "<AxesSubplot:>"
      ]
     },
     "execution_count": 32,
     "metadata": {},
     "output_type": "execute_result"
    },
    {
     "data": {
      "image/png": "[encoded data removed]",
      "text/plain": [
       "<Figure size 432x288 with 1 Axes>"
      ]
     },
     "metadata": {
      "needs_background": "light"
     },
     "output_type": "display_data"
    }
   ],
   "source": [
    "SP500Market.plot()"
   ]
  },
  {
   "cell_type": "code",
   "execution_count": 33,
   "metadata": {},
   "outputs": [],
   "source": [
    "rfrate = fred.get_series('TB3MS')"
   ]
  },
  {
   "cell_type": "code",
   "execution_count": 34,
   "metadata": {},
   "outputs": [
    {
     "data": {
      "text/plain": [
       "<AxesSubplot:>"
      ]
     },
     "execution_count": 34,
     "metadata": {},
     "output_type": "execute_result"
    },
    {
     "data": {
      "image/png": "[encoded data removed]",
      "text/plain": [
       "<Figure size 432x288 with 1 Axes>"
      ]
     },
     "metadata": {
      "needs_background": "light"
     },
     "output_type": "display_data"
    }
   ],
   "source": [
    "rfrate.plot()"
   ]
  },
  {
   "cell_type": "markdown",
   "metadata": {},
   "source": [
    "# 2.2"
   ]
  },
  {
   "cell_type": "markdown",
   "metadata": {},
   "source": [
    "# Data Transformations"
   ]
  },
  {
   "cell_type": "code",
   "execution_count": 235,
   "metadata": {},
   "outputs": [],
   "source": [
    "df= pd.concat([BitcoinPrice,GoldPrice,SP500Market,rfrate],axis=1)"
   ]
  },
  {
   "cell_type": "code",
   "execution_count": 236,
   "metadata": {},
   "outputs": [
    {
     "data": {
      "text/html": [
       "<div>\n",
       "<style scoped>\n",
       "    .dataframe tbody tr th:only-of-type {\n",
       "        vertical-align: middle;\n",
       "    }\n",
       "\n",
       "    .dataframe tbody tr th {\n",
       "        vertical-align: top;\n",
       "    }\n",
       "\n",
       "    .dataframe thead th {\n",
       "        text-align: right;\n",
       "    }\n",
       "</style>\n",
       "<table border=\"1\" class=\"dataframe\">\n",
       "  <thead>\n",
       "    <tr style=\"text-align: right;\">\n",
       "      <th></th>\n",
       "      <th>0</th>\n",
       "      <th>1</th>\n",
       "      <th>2</th>\n",
       "      <th>3</th>\n",
       "    </tr>\n",
       "  </thead>\n",
       "  <tbody>\n",
       "    <tr>\n",
       "      <th>1934-01-01</th>\n",
       "      <td>NaN</td>\n",
       "      <td>NaN</td>\n",
       "      <td>NaN</td>\n",
       "      <td>0.72</td>\n",
       "    </tr>\n",
       "    <tr>\n",
       "      <th>1934-02-01</th>\n",
       "      <td>NaN</td>\n",
       "      <td>NaN</td>\n",
       "      <td>NaN</td>\n",
       "      <td>0.62</td>\n",
       "    </tr>\n",
       "    <tr>\n",
       "      <th>1934-03-01</th>\n",
       "      <td>NaN</td>\n",
       "      <td>NaN</td>\n",
       "      <td>NaN</td>\n",
       "      <td>0.24</td>\n",
       "    </tr>\n",
       "    <tr>\n",
       "      <th>1934-04-01</th>\n",
       "      <td>NaN</td>\n",
       "      <td>NaN</td>\n",
       "      <td>NaN</td>\n",
       "      <td>0.15</td>\n",
       "    </tr>\n",
       "    <tr>\n",
       "      <th>1934-05-01</th>\n",
       "      <td>NaN</td>\n",
       "      <td>NaN</td>\n",
       "      <td>NaN</td>\n",
       "      <td>0.16</td>\n",
       "    </tr>\n",
       "    <tr>\n",
       "      <th>...</th>\n",
       "      <td>...</td>\n",
       "      <td>...</td>\n",
       "      <td>...</td>\n",
       "      <td>...</td>\n",
       "    </tr>\n",
       "    <tr>\n",
       "      <th>2020-12-28</th>\n",
       "      <td>27044.14</td>\n",
       "      <td>NaN</td>\n",
       "      <td>3735.36</td>\n",
       "      <td>NaN</td>\n",
       "    </tr>\n",
       "    <tr>\n",
       "      <th>2020-12-29</th>\n",
       "      <td>27407.85</td>\n",
       "      <td>NaN</td>\n",
       "      <td>3727.04</td>\n",
       "      <td>NaN</td>\n",
       "    </tr>\n",
       "    <tr>\n",
       "      <th>2020-12-30</th>\n",
       "      <td>28934.56</td>\n",
       "      <td>NaN</td>\n",
       "      <td>3732.04</td>\n",
       "      <td>NaN</td>\n",
       "    </tr>\n",
       "    <tr>\n",
       "      <th>2020-12-31</th>\n",
       "      <td>29026.97</td>\n",
       "      <td>NaN</td>\n",
       "      <td>3756.07</td>\n",
       "      <td>NaN</td>\n",
       "    </tr>\n",
       "    <tr>\n",
       "      <th>2021-01-01</th>\n",
       "      <td>29391.09</td>\n",
       "      <td>NaN</td>\n",
       "      <td>NaN</td>\n",
       "      <td>NaN</td>\n",
       "    </tr>\n",
       "  </tbody>\n",
       "</table>\n",
       "<p>4183 rows × 4 columns</p>\n",
       "</div>"
      ],
      "text/plain": [
       "                   0   1        2     3\n",
       "1934-01-01       NaN NaN      NaN  0.72\n",
       "1934-02-01       NaN NaN      NaN  0.62\n",
       "1934-03-01       NaN NaN      NaN  0.24\n",
       "1934-04-01       NaN NaN      NaN  0.15\n",
       "1934-05-01       NaN NaN      NaN  0.16\n",
       "...              ...  ..      ...   ...\n",
       "2020-12-28  27044.14 NaN  3735.36   NaN\n",
       "2020-12-29  27407.85 NaN  3727.04   NaN\n",
       "2020-12-30  28934.56 NaN  3732.04   NaN\n",
       "2020-12-31  29026.97 NaN  3756.07   NaN\n",
       "2021-01-01  29391.09 NaN      NaN   NaN\n",
       "\n",
       "[4183 rows x 4 columns]"
      ]
     },
     "execution_count": 236,
     "metadata": {},
     "output_type": "execute_result"
    }
   ],
   "source": [
    "df"
   ]
  },
  {
   "cell_type": "code",
   "execution_count": 237,
   "metadata": {},
   "outputs": [],
   "source": [
    "df.columns=('BitcoinPrice','GoldPrice','S&P500','RiskFreeRate')"
   ]
  },
  {
   "cell_type": "code",
   "execution_count": 238,
   "metadata": {},
   "outputs": [],
   "source": [
    "df = df.fillna(method='ffill')"
   ]
  },
  {
   "cell_type": "markdown",
   "metadata": {},
   "source": [
    "I'm going to extract data starting in 2015 then eliminate the first two rows such that we have effective analysis later on"
   ]
  },
  {
   "cell_type": "code",
   "execution_count": 239,
   "metadata": {},
   "outputs": [],
   "source": [
    "df=df.loc['2015-11-01':'2020-12-01']"
   ]
  },
  {
   "cell_type": "code",
   "execution_count": 240,
   "metadata": {},
   "outputs": [],
   "source": [
    "df= df[df.index.day==1]"
   ]
  },
  {
   "cell_type": "code",
   "execution_count": 241,
   "metadata": {},
   "outputs": [
    {
     "data": {
      "text/html": [
       "<div>\n",
       "<style scoped>\n",
       "    .dataframe tbody tr th:only-of-type {\n",
       "        vertical-align: middle;\n",
       "    }\n",
       "\n",
       "    .dataframe tbody tr th {\n",
       "        vertical-align: top;\n",
       "    }\n",
       "\n",
       "    .dataframe thead th {\n",
       "        text-align: right;\n",
       "    }\n",
       "</style>\n",
       "<table border=\"1\" class=\"dataframe\">\n",
       "  <thead>\n",
       "    <tr style=\"text-align: right;\">\n",
       "      <th></th>\n",
       "      <th>BitcoinPrice</th>\n",
       "      <th>GoldPrice</th>\n",
       "      <th>S&amp;P500</th>\n",
       "      <th>RiskFreeRate</th>\n",
       "    </tr>\n",
       "  </thead>\n",
       "  <tbody>\n",
       "    <tr>\n",
       "      <th>2015-11-01</th>\n",
       "      <td>329.46</td>\n",
       "      <td>402.6</td>\n",
       "      <td>2079.36</td>\n",
       "      <td>0.12</td>\n",
       "    </tr>\n",
       "    <tr>\n",
       "      <th>2015-12-01</th>\n",
       "      <td>362.68</td>\n",
       "      <td>384.7</td>\n",
       "      <td>2102.63</td>\n",
       "      <td>0.23</td>\n",
       "    </tr>\n",
       "    <tr>\n",
       "      <th>2016-01-01</th>\n",
       "      <td>435.66</td>\n",
       "      <td>395.0</td>\n",
       "      <td>2043.94</td>\n",
       "      <td>0.26</td>\n",
       "    </tr>\n",
       "    <tr>\n",
       "      <th>2016-02-01</th>\n",
       "      <td>371.33</td>\n",
       "      <td>412.4</td>\n",
       "      <td>1939.38</td>\n",
       "      <td>0.31</td>\n",
       "    </tr>\n",
       "    <tr>\n",
       "      <th>2016-03-01</th>\n",
       "      <td>433.08</td>\n",
       "      <td>451.2</td>\n",
       "      <td>1978.35</td>\n",
       "      <td>0.29</td>\n",
       "    </tr>\n",
       "    <tr>\n",
       "      <th>...</th>\n",
       "      <td>...</td>\n",
       "      <td>...</td>\n",
       "      <td>...</td>\n",
       "      <td>...</td>\n",
       "    </tr>\n",
       "    <tr>\n",
       "      <th>2020-08-01</th>\n",
       "      <td>11805.82</td>\n",
       "      <td>730.8</td>\n",
       "      <td>3271.12</td>\n",
       "      <td>0.10</td>\n",
       "    </tr>\n",
       "    <tr>\n",
       "      <th>2020-09-01</th>\n",
       "      <td>11911.74</td>\n",
       "      <td>707.7</td>\n",
       "      <td>3526.65</td>\n",
       "      <td>0.11</td>\n",
       "    </tr>\n",
       "    <tr>\n",
       "      <th>2020-10-01</th>\n",
       "      <td>10598.64</td>\n",
       "      <td>690.2</td>\n",
       "      <td>3380.80</td>\n",
       "      <td>0.10</td>\n",
       "    </tr>\n",
       "    <tr>\n",
       "      <th>2020-11-01</th>\n",
       "      <td>13784.52</td>\n",
       "      <td>694.6</td>\n",
       "      <td>3269.96</td>\n",
       "      <td>0.09</td>\n",
       "    </tr>\n",
       "    <tr>\n",
       "      <th>2020-12-01</th>\n",
       "      <td>18763.35</td>\n",
       "      <td>694.6</td>\n",
       "      <td>3662.45</td>\n",
       "      <td>0.09</td>\n",
       "    </tr>\n",
       "  </tbody>\n",
       "</table>\n",
       "<p>62 rows × 4 columns</p>\n",
       "</div>"
      ],
      "text/plain": [
       "            BitcoinPrice  GoldPrice   S&P500  RiskFreeRate\n",
       "2015-11-01        329.46      402.6  2079.36          0.12\n",
       "2015-12-01        362.68      384.7  2102.63          0.23\n",
       "2016-01-01        435.66      395.0  2043.94          0.26\n",
       "2016-02-01        371.33      412.4  1939.38          0.31\n",
       "2016-03-01        433.08      451.2  1978.35          0.29\n",
       "...                  ...        ...      ...           ...\n",
       "2020-08-01      11805.82      730.8  3271.12          0.10\n",
       "2020-09-01      11911.74      707.7  3526.65          0.11\n",
       "2020-10-01      10598.64      690.2  3380.80          0.10\n",
       "2020-11-01      13784.52      694.6  3269.96          0.09\n",
       "2020-12-01      18763.35      694.6  3662.45          0.09\n",
       "\n",
       "[62 rows x 4 columns]"
      ]
     },
     "execution_count": 241,
     "metadata": {},
     "output_type": "execute_result"
    }
   ],
   "source": [
    "df"
   ]
  },
  {
   "cell_type": "code",
   "execution_count": null,
   "metadata": {},
   "outputs": [],
   "source": []
  },
  {
   "cell_type": "code",
   "execution_count": 242,
   "metadata": {},
   "outputs": [],
   "source": [
    "import numpy as np"
   ]
  },
  {
   "cell_type": "code",
   "execution_count": 243,
   "metadata": {},
   "outputs": [],
   "source": [
    "df['BitcoinReturns']= np.log(df['BitcoinPrice']/df['BitcoinPrice'].shift(1))"
   ]
  },
  {
   "cell_type": "code",
   "execution_count": 244,
   "metadata": {},
   "outputs": [],
   "source": [
    "df['GoldReturns']=np.log(df['GoldPrice']/df['GoldPrice'].shift(1))"
   ]
  },
  {
   "cell_type": "code",
   "execution_count": 245,
   "metadata": {},
   "outputs": [],
   "source": [
    "df['S&PReturns']= np.log(df['S&P500']/df['S&P500'].shift(1))"
   ]
  },
  {
   "cell_type": "code",
   "execution_count": 246,
   "metadata": {},
   "outputs": [],
   "source": [
    "df['RiskFreeReturns']=df['RiskFreeRate']/1200"
   ]
  },
  {
   "cell_type": "markdown",
   "metadata": {},
   "source": [
    "Drop the first two rows such that we have analysis from the start of 2016 to near the end of 2020"
   ]
  },
  {
   "cell_type": "code",
   "execution_count": 247,
   "metadata": {},
   "outputs": [],
   "source": [
    "df = df.drop(df.index[0])"
   ]
  },
  {
   "cell_type": "code",
   "execution_count": 248,
   "metadata": {},
   "outputs": [],
   "source": [
    "df = df.drop(df.index[0])"
   ]
  },
  {
   "cell_type": "code",
   "execution_count": 249,
   "metadata": {
    "scrolled": false
   },
   "outputs": [
    {
     "data": {
      "text/html": [
       "<div>\n",
       "<style scoped>\n",
       "    .dataframe tbody tr th:only-of-type {\n",
       "        vertical-align: middle;\n",
       "    }\n",
       "\n",
       "    .dataframe tbody tr th {\n",
       "        vertical-align: top;\n",
       "    }\n",
       "\n",
       "    .dataframe thead th {\n",
       "        text-align: right;\n",
       "    }\n",
       "</style>\n",
       "<table border=\"1\" class=\"dataframe\">\n",
       "  <thead>\n",
       "    <tr style=\"text-align: right;\">\n",
       "      <th></th>\n",
       "      <th>BitcoinPrice</th>\n",
       "      <th>GoldPrice</th>\n",
       "      <th>S&amp;P500</th>\n",
       "      <th>RiskFreeRate</th>\n",
       "      <th>BitcoinReturns</th>\n",
       "      <th>GoldReturns</th>\n",
       "      <th>S&amp;PReturns</th>\n",
       "      <th>RiskFreeReturns</th>\n",
       "    </tr>\n",
       "  </thead>\n",
       "  <tbody>\n",
       "    <tr>\n",
       "      <th>2016-01-01</th>\n",
       "      <td>435.66</td>\n",
       "      <td>395.0</td>\n",
       "      <td>2043.94</td>\n",
       "      <td>0.26</td>\n",
       "      <td>0.183341</td>\n",
       "      <td>0.026422</td>\n",
       "      <td>-0.028310</td>\n",
       "      <td>0.000217</td>\n",
       "    </tr>\n",
       "    <tr>\n",
       "      <th>2016-02-01</th>\n",
       "      <td>371.33</td>\n",
       "      <td>412.4</td>\n",
       "      <td>1939.38</td>\n",
       "      <td>0.31</td>\n",
       "      <td>-0.159771</td>\n",
       "      <td>0.043108</td>\n",
       "      <td>-0.052511</td>\n",
       "      <td>0.000258</td>\n",
       "    </tr>\n",
       "    <tr>\n",
       "      <th>2016-03-01</th>\n",
       "      <td>433.08</td>\n",
       "      <td>451.2</td>\n",
       "      <td>1978.35</td>\n",
       "      <td>0.29</td>\n",
       "      <td>0.153831</td>\n",
       "      <td>0.089917</td>\n",
       "      <td>0.019895</td>\n",
       "      <td>0.000242</td>\n",
       "    </tr>\n",
       "    <tr>\n",
       "      <th>2016-04-01</th>\n",
       "      <td>417.68</td>\n",
       "      <td>445.4</td>\n",
       "      <td>2072.78</td>\n",
       "      <td>0.23</td>\n",
       "      <td>-0.036207</td>\n",
       "      <td>-0.012938</td>\n",
       "      <td>0.046628</td>\n",
       "      <td>0.000192</td>\n",
       "    </tr>\n",
       "    <tr>\n",
       "      <th>2016-05-01</th>\n",
       "      <td>456.98</td>\n",
       "      <td>465.7</td>\n",
       "      <td>2065.30</td>\n",
       "      <td>0.27</td>\n",
       "      <td>0.089924</td>\n",
       "      <td>0.044569</td>\n",
       "      <td>-0.003615</td>\n",
       "      <td>0.000225</td>\n",
       "    </tr>\n",
       "    <tr>\n",
       "      <th>2016-06-01</th>\n",
       "      <td>534.84</td>\n",
       "      <td>441.3</td>\n",
       "      <td>2099.33</td>\n",
       "      <td>0.27</td>\n",
       "      <td>0.157328</td>\n",
       "      <td>-0.053817</td>\n",
       "      <td>0.016343</td>\n",
       "      <td>0.000225</td>\n",
       "    </tr>\n",
       "    <tr>\n",
       "      <th>2016-07-01</th>\n",
       "      <td>678.19</td>\n",
       "      <td>490.7</td>\n",
       "      <td>2102.95</td>\n",
       "      <td>0.30</td>\n",
       "      <td>0.237460</td>\n",
       "      <td>0.106108</td>\n",
       "      <td>0.001723</td>\n",
       "      <td>0.000250</td>\n",
       "    </tr>\n",
       "    <tr>\n",
       "      <th>2016-08-01</th>\n",
       "      <td>605.20</td>\n",
       "      <td>490.1</td>\n",
       "      <td>2170.84</td>\n",
       "      <td>0.30</td>\n",
       "      <td>-0.113869</td>\n",
       "      <td>-0.001223</td>\n",
       "      <td>0.031773</td>\n",
       "      <td>0.000250</td>\n",
       "    </tr>\n",
       "    <tr>\n",
       "      <th>2016-09-01</th>\n",
       "      <td>573.02</td>\n",
       "      <td>484.6</td>\n",
       "      <td>2170.86</td>\n",
       "      <td>0.29</td>\n",
       "      <td>-0.054638</td>\n",
       "      <td>-0.011286</td>\n",
       "      <td>0.000009</td>\n",
       "      <td>0.000242</td>\n",
       "    </tr>\n",
       "    <tr>\n",
       "      <th>2016-10-01</th>\n",
       "      <td>615.65</td>\n",
       "      <td>461.2</td>\n",
       "      <td>2168.27</td>\n",
       "      <td>0.33</td>\n",
       "      <td>0.071758</td>\n",
       "      <td>-0.049492</td>\n",
       "      <td>-0.001194</td>\n",
       "      <td>0.000275</td>\n",
       "    </tr>\n",
       "    <tr>\n",
       "      <th>2016-11-01</th>\n",
       "      <td>730.70</td>\n",
       "      <td>467.6</td>\n",
       "      <td>2111.72</td>\n",
       "      <td>0.45</td>\n",
       "      <td>0.171324</td>\n",
       "      <td>0.013781</td>\n",
       "      <td>-0.026427</td>\n",
       "      <td>0.000375</td>\n",
       "    </tr>\n",
       "    <tr>\n",
       "      <th>2016-12-01</th>\n",
       "      <td>754.00</td>\n",
       "      <td>422.7</td>\n",
       "      <td>2191.08</td>\n",
       "      <td>0.51</td>\n",
       "      <td>0.031389</td>\n",
       "      <td>-0.100951</td>\n",
       "      <td>0.036892</td>\n",
       "      <td>0.000425</td>\n",
       "    </tr>\n",
       "    <tr>\n",
       "      <th>2017-01-01</th>\n",
       "      <td>992.95</td>\n",
       "      <td>421.9</td>\n",
       "      <td>2238.83</td>\n",
       "      <td>0.51</td>\n",
       "      <td>0.275288</td>\n",
       "      <td>-0.001894</td>\n",
       "      <td>0.021559</td>\n",
       "      <td>0.000425</td>\n",
       "    </tr>\n",
       "    <tr>\n",
       "      <th>2017-02-01</th>\n",
       "      <td>992.75</td>\n",
       "      <td>437.2</td>\n",
       "      <td>2279.55</td>\n",
       "      <td>0.52</td>\n",
       "      <td>-0.000201</td>\n",
       "      <td>0.035622</td>\n",
       "      <td>0.018025</td>\n",
       "      <td>0.000433</td>\n",
       "    </tr>\n",
       "    <tr>\n",
       "      <th>2017-03-01</th>\n",
       "      <td>1230.00</td>\n",
       "      <td>449.6</td>\n",
       "      <td>2395.96</td>\n",
       "      <td>0.74</td>\n",
       "      <td>0.214291</td>\n",
       "      <td>0.027968</td>\n",
       "      <td>0.049806</td>\n",
       "      <td>0.000617</td>\n",
       "    </tr>\n",
       "    <tr>\n",
       "      <th>2017-04-01</th>\n",
       "      <td>1092.00</td>\n",
       "      <td>453.3</td>\n",
       "      <td>2362.72</td>\n",
       "      <td>0.80</td>\n",
       "      <td>-0.119003</td>\n",
       "      <td>0.008196</td>\n",
       "      <td>-0.013970</td>\n",
       "      <td>0.000667</td>\n",
       "    </tr>\n",
       "    <tr>\n",
       "      <th>2017-05-01</th>\n",
       "      <td>1436.50</td>\n",
       "      <td>450.4</td>\n",
       "      <td>2388.33</td>\n",
       "      <td>0.89</td>\n",
       "      <td>0.274199</td>\n",
       "      <td>-0.006418</td>\n",
       "      <td>0.010781</td>\n",
       "      <td>0.000742</td>\n",
       "    </tr>\n",
       "    <tr>\n",
       "      <th>2017-06-01</th>\n",
       "      <td>2419.99</td>\n",
       "      <td>463.0</td>\n",
       "      <td>2430.06</td>\n",
       "      <td>0.98</td>\n",
       "      <td>0.521554</td>\n",
       "      <td>0.027591</td>\n",
       "      <td>0.017322</td>\n",
       "      <td>0.000817</td>\n",
       "    </tr>\n",
       "    <tr>\n",
       "      <th>2017-07-01</th>\n",
       "      <td>2423.63</td>\n",
       "      <td>441.9</td>\n",
       "      <td>2423.41</td>\n",
       "      <td>1.07</td>\n",
       "      <td>0.001503</td>\n",
       "      <td>-0.046643</td>\n",
       "      <td>-0.002740</td>\n",
       "      <td>0.000892</td>\n",
       "    </tr>\n",
       "    <tr>\n",
       "      <th>2017-08-01</th>\n",
       "      <td>2732.59</td>\n",
       "      <td>457.9</td>\n",
       "      <td>2476.35</td>\n",
       "      <td>1.01</td>\n",
       "      <td>0.119983</td>\n",
       "      <td>0.035567</td>\n",
       "      <td>0.021610</td>\n",
       "      <td>0.000842</td>\n",
       "    </tr>\n",
       "    <tr>\n",
       "      <th>2017-09-01</th>\n",
       "      <td>4947.99</td>\n",
       "      <td>484.7</td>\n",
       "      <td>2476.55</td>\n",
       "      <td>1.03</td>\n",
       "      <td>0.593732</td>\n",
       "      <td>0.056879</td>\n",
       "      <td>0.000081</td>\n",
       "      <td>0.000858</td>\n",
       "    </tr>\n",
       "    <tr>\n",
       "      <th>2017-10-01</th>\n",
       "      <td>4394.81</td>\n",
       "      <td>459.6</td>\n",
       "      <td>2519.36</td>\n",
       "      <td>1.07</td>\n",
       "      <td>-0.118557</td>\n",
       "      <td>-0.053174</td>\n",
       "      <td>0.017138</td>\n",
       "      <td>0.000892</td>\n",
       "    </tr>\n",
       "    <tr>\n",
       "      <th>2017-11-01</th>\n",
       "      <td>6783.69</td>\n",
       "      <td>460.4</td>\n",
       "      <td>2579.36</td>\n",
       "      <td>1.23</td>\n",
       "      <td>0.434097</td>\n",
       "      <td>0.001739</td>\n",
       "      <td>0.023536</td>\n",
       "      <td>0.001025</td>\n",
       "    </tr>\n",
       "    <tr>\n",
       "      <th>2017-12-01</th>\n",
       "      <td>10869.84</td>\n",
       "      <td>456.4</td>\n",
       "      <td>2642.22</td>\n",
       "      <td>1.32</td>\n",
       "      <td>0.471471</td>\n",
       "      <td>-0.008726</td>\n",
       "      <td>0.024078</td>\n",
       "      <td>0.001100</td>\n",
       "    </tr>\n",
       "    <tr>\n",
       "      <th>2018-01-01</th>\n",
       "      <td>13480.01</td>\n",
       "      <td>475.9</td>\n",
       "      <td>2673.61</td>\n",
       "      <td>1.41</td>\n",
       "      <td>0.215216</td>\n",
       "      <td>0.041838</td>\n",
       "      <td>0.011810</td>\n",
       "      <td>0.001175</td>\n",
       "    </tr>\n",
       "    <tr>\n",
       "      <th>2018-02-01</th>\n",
       "      <td>9014.23</td>\n",
       "      <td>478.7</td>\n",
       "      <td>2821.98</td>\n",
       "      <td>1.57</td>\n",
       "      <td>-0.402403</td>\n",
       "      <td>0.005866</td>\n",
       "      <td>0.054009</td>\n",
       "      <td>0.001308</td>\n",
       "    </tr>\n",
       "    <tr>\n",
       "      <th>2018-03-01</th>\n",
       "      <td>10895.92</td>\n",
       "      <td>479.1</td>\n",
       "      <td>2677.67</td>\n",
       "      <td>1.70</td>\n",
       "      <td>0.189584</td>\n",
       "      <td>0.000835</td>\n",
       "      <td>-0.052492</td>\n",
       "      <td>0.001417</td>\n",
       "    </tr>\n",
       "    <tr>\n",
       "      <th>2018-04-01</th>\n",
       "      <td>6816.01</td>\n",
       "      <td>482.0</td>\n",
       "      <td>2640.87</td>\n",
       "      <td>1.76</td>\n",
       "      <td>-0.469114</td>\n",
       "      <td>0.006035</td>\n",
       "      <td>-0.013839</td>\n",
       "      <td>0.001467</td>\n",
       "    </tr>\n",
       "    <tr>\n",
       "      <th>2018-05-01</th>\n",
       "      <td>9072.29</td>\n",
       "      <td>473.7</td>\n",
       "      <td>2654.80</td>\n",
       "      <td>1.86</td>\n",
       "      <td>0.285950</td>\n",
       "      <td>-0.017370</td>\n",
       "      <td>0.005261</td>\n",
       "      <td>0.001550</td>\n",
       "    </tr>\n",
       "    <tr>\n",
       "      <th>2018-06-01</th>\n",
       "      <td>7514.32</td>\n",
       "      <td>469.0</td>\n",
       "      <td>2734.62</td>\n",
       "      <td>1.90</td>\n",
       "      <td>-0.188414</td>\n",
       "      <td>-0.009971</td>\n",
       "      <td>0.029623</td>\n",
       "      <td>0.001583</td>\n",
       "    </tr>\n",
       "    <tr>\n",
       "      <th>2018-07-01</th>\n",
       "      <td>6349.50</td>\n",
       "      <td>453.1</td>\n",
       "      <td>2718.37</td>\n",
       "      <td>1.96</td>\n",
       "      <td>-0.168434</td>\n",
       "      <td>-0.034490</td>\n",
       "      <td>-0.005960</td>\n",
       "      <td>0.001633</td>\n",
       "    </tr>\n",
       "    <tr>\n",
       "      <th>2018-08-01</th>\n",
       "      <td>7603.99</td>\n",
       "      <td>440.8</td>\n",
       "      <td>2813.36</td>\n",
       "      <td>2.03</td>\n",
       "      <td>0.180297</td>\n",
       "      <td>-0.027522</td>\n",
       "      <td>0.034347</td>\n",
       "      <td>0.001692</td>\n",
       "    </tr>\n",
       "    <tr>\n",
       "      <th>2018-09-01</th>\n",
       "      <td>7191.08</td>\n",
       "      <td>433.5</td>\n",
       "      <td>2901.52</td>\n",
       "      <td>2.13</td>\n",
       "      <td>-0.055832</td>\n",
       "      <td>-0.016699</td>\n",
       "      <td>0.030855</td>\n",
       "      <td>0.001775</td>\n",
       "    </tr>\n",
       "    <tr>\n",
       "      <th>2018-10-01</th>\n",
       "      <td>6572.83</td>\n",
       "      <td>434.5</td>\n",
       "      <td>2924.59</td>\n",
       "      <td>2.25</td>\n",
       "      <td>-0.089897</td>\n",
       "      <td>0.002304</td>\n",
       "      <td>0.007920</td>\n",
       "      <td>0.001875</td>\n",
       "    </tr>\n",
       "    <tr>\n",
       "      <th>2018-11-01</th>\n",
       "      <td>6344.00</td>\n",
       "      <td>444.0</td>\n",
       "      <td>2740.37</td>\n",
       "      <td>2.33</td>\n",
       "      <td>-0.035435</td>\n",
       "      <td>0.021629</td>\n",
       "      <td>-0.065061</td>\n",
       "      <td>0.001942</td>\n",
       "    </tr>\n",
       "    <tr>\n",
       "      <th>2018-12-01</th>\n",
       "      <td>4142.01</td>\n",
       "      <td>448.7</td>\n",
       "      <td>2760.17</td>\n",
       "      <td>2.37</td>\n",
       "      <td>-0.426328</td>\n",
       "      <td>0.010530</td>\n",
       "      <td>0.007199</td>\n",
       "      <td>0.001975</td>\n",
       "    </tr>\n",
       "    <tr>\n",
       "      <th>2019-01-01</th>\n",
       "      <td>3826.10</td>\n",
       "      <td>464.4</td>\n",
       "      <td>2506.85</td>\n",
       "      <td>2.37</td>\n",
       "      <td>-0.079335</td>\n",
       "      <td>0.034392</td>\n",
       "      <td>-0.096265</td>\n",
       "      <td>0.001975</td>\n",
       "    </tr>\n",
       "    <tr>\n",
       "      <th>2019-02-01</th>\n",
       "      <td>3437.50</td>\n",
       "      <td>475.9</td>\n",
       "      <td>2706.53</td>\n",
       "      <td>2.39</td>\n",
       "      <td>-0.107102</td>\n",
       "      <td>0.024461</td>\n",
       "      <td>0.076640</td>\n",
       "      <td>0.001992</td>\n",
       "    </tr>\n",
       "    <tr>\n",
       "      <th>2019-03-01</th>\n",
       "      <td>3806.17</td>\n",
       "      <td>467.3</td>\n",
       "      <td>2803.69</td>\n",
       "      <td>2.40</td>\n",
       "      <td>0.101879</td>\n",
       "      <td>-0.018236</td>\n",
       "      <td>0.035269</td>\n",
       "      <td>0.002000</td>\n",
       "    </tr>\n",
       "    <tr>\n",
       "      <th>2019-04-01</th>\n",
       "      <td>4137.00</td>\n",
       "      <td>467.4</td>\n",
       "      <td>2867.19</td>\n",
       "      <td>2.38</td>\n",
       "      <td>0.083347</td>\n",
       "      <td>0.000214</td>\n",
       "      <td>0.022396</td>\n",
       "      <td>0.001983</td>\n",
       "    </tr>\n",
       "    <tr>\n",
       "      <th>2019-05-01</th>\n",
       "      <td>5321.15</td>\n",
       "      <td>463.7</td>\n",
       "      <td>2923.73</td>\n",
       "      <td>2.35</td>\n",
       "      <td>0.251719</td>\n",
       "      <td>-0.007948</td>\n",
       "      <td>0.019528</td>\n",
       "      <td>0.001958</td>\n",
       "    </tr>\n",
       "    <tr>\n",
       "      <th>2019-06-01</th>\n",
       "      <td>8558.01</td>\n",
       "      <td>481.8</td>\n",
       "      <td>2752.06</td>\n",
       "      <td>2.17</td>\n",
       "      <td>0.475178</td>\n",
       "      <td>0.038291</td>\n",
       "      <td>-0.060510</td>\n",
       "      <td>0.001808</td>\n",
       "    </tr>\n",
       "    <tr>\n",
       "      <th>2019-07-01</th>\n",
       "      <td>10570.62</td>\n",
       "      <td>506.1</td>\n",
       "      <td>2964.33</td>\n",
       "      <td>2.10</td>\n",
       "      <td>0.211211</td>\n",
       "      <td>0.049205</td>\n",
       "      <td>0.074301</td>\n",
       "      <td>0.001750</td>\n",
       "    </tr>\n",
       "    <tr>\n",
       "      <th>2019-08-01</th>\n",
       "      <td>10417.24</td>\n",
       "      <td>537.7</td>\n",
       "      <td>2953.56</td>\n",
       "      <td>1.95</td>\n",
       "      <td>-0.014616</td>\n",
       "      <td>0.060567</td>\n",
       "      <td>-0.003640</td>\n",
       "      <td>0.001625</td>\n",
       "    </tr>\n",
       "    <tr>\n",
       "      <th>2019-09-01</th>\n",
       "      <td>9769.64</td>\n",
       "      <td>554.7</td>\n",
       "      <td>2926.46</td>\n",
       "      <td>1.89</td>\n",
       "      <td>-0.064183</td>\n",
       "      <td>0.031127</td>\n",
       "      <td>-0.009218</td>\n",
       "      <td>0.001575</td>\n",
       "    </tr>\n",
       "    <tr>\n",
       "      <th>2019-10-01</th>\n",
       "      <td>8323.43</td>\n",
       "      <td>541.5</td>\n",
       "      <td>2940.25</td>\n",
       "      <td>1.65</td>\n",
       "      <td>-0.160205</td>\n",
       "      <td>-0.024084</td>\n",
       "      <td>0.004701</td>\n",
       "      <td>0.001375</td>\n",
       "    </tr>\n",
       "    <tr>\n",
       "      <th>2019-11-01</th>\n",
       "      <td>9268.00</td>\n",
       "      <td>539.2</td>\n",
       "      <td>3066.91</td>\n",
       "      <td>1.54</td>\n",
       "      <td>0.107493</td>\n",
       "      <td>-0.004257</td>\n",
       "      <td>0.042176</td>\n",
       "      <td>0.001283</td>\n",
       "    </tr>\n",
       "    <tr>\n",
       "      <th>2019-12-01</th>\n",
       "      <td>7413.84</td>\n",
       "      <td>533.9</td>\n",
       "      <td>3140.98</td>\n",
       "      <td>1.54</td>\n",
       "      <td>-0.223219</td>\n",
       "      <td>-0.009878</td>\n",
       "      <td>0.023864</td>\n",
       "      <td>0.001283</td>\n",
       "    </tr>\n",
       "    <tr>\n",
       "      <th>2020-01-01</th>\n",
       "      <td>7174.32</td>\n",
       "      <td>555.0</td>\n",
       "      <td>3230.78</td>\n",
       "      <td>1.52</td>\n",
       "      <td>-0.032841</td>\n",
       "      <td>0.038760</td>\n",
       "      <td>0.028189</td>\n",
       "      <td>0.001267</td>\n",
       "    </tr>\n",
       "    <tr>\n",
       "      <th>2020-02-01</th>\n",
       "      <td>9375.06</td>\n",
       "      <td>568.1</td>\n",
       "      <td>3225.52</td>\n",
       "      <td>1.52</td>\n",
       "      <td>0.267545</td>\n",
       "      <td>0.023329</td>\n",
       "      <td>-0.001629</td>\n",
       "      <td>0.001267</td>\n",
       "    </tr>\n",
       "    <tr>\n",
       "      <th>2020-03-01</th>\n",
       "      <td>8490.30</td>\n",
       "      <td>595.4</td>\n",
       "      <td>2954.22</td>\n",
       "      <td>0.29</td>\n",
       "      <td>-0.099129</td>\n",
       "      <td>0.046936</td>\n",
       "      <td>-0.087860</td>\n",
       "      <td>0.000242</td>\n",
       "    </tr>\n",
       "    <tr>\n",
       "      <th>2020-04-01</th>\n",
       "      <td>6719.39</td>\n",
       "      <td>583.4</td>\n",
       "      <td>2470.50</td>\n",
       "      <td>0.14</td>\n",
       "      <td>-0.233927</td>\n",
       "      <td>-0.020360</td>\n",
       "      <td>-0.178814</td>\n",
       "      <td>0.000117</td>\n",
       "    </tr>\n",
       "    <tr>\n",
       "      <th>2020-05-01</th>\n",
       "      <td>8813.90</td>\n",
       "      <td>617.3</td>\n",
       "      <td>2830.71</td>\n",
       "      <td>0.13</td>\n",
       "      <td>0.271333</td>\n",
       "      <td>0.056482</td>\n",
       "      <td>0.136107</td>\n",
       "      <td>0.000108</td>\n",
       "    </tr>\n",
       "    <tr>\n",
       "      <th>2020-06-01</th>\n",
       "      <td>10212.38</td>\n",
       "      <td>620.8</td>\n",
       "      <td>3055.73</td>\n",
       "      <td>0.16</td>\n",
       "      <td>0.147271</td>\n",
       "      <td>0.005654</td>\n",
       "      <td>0.076491</td>\n",
       "      <td>0.000133</td>\n",
       "    </tr>\n",
       "    <tr>\n",
       "      <th>2020-07-01</th>\n",
       "      <td>9239.09</td>\n",
       "      <td>642.6</td>\n",
       "      <td>3115.86</td>\n",
       "      <td>0.13</td>\n",
       "      <td>-0.100157</td>\n",
       "      <td>0.034513</td>\n",
       "      <td>0.019487</td>\n",
       "      <td>0.000108</td>\n",
       "    </tr>\n",
       "    <tr>\n",
       "      <th>2020-08-01</th>\n",
       "      <td>11805.82</td>\n",
       "      <td>730.8</td>\n",
       "      <td>3271.12</td>\n",
       "      <td>0.10</td>\n",
       "      <td>0.245149</td>\n",
       "      <td>0.128617</td>\n",
       "      <td>0.048627</td>\n",
       "      <td>0.000083</td>\n",
       "    </tr>\n",
       "    <tr>\n",
       "      <th>2020-09-01</th>\n",
       "      <td>11911.74</td>\n",
       "      <td>707.7</td>\n",
       "      <td>3526.65</td>\n",
       "      <td>0.11</td>\n",
       "      <td>0.008932</td>\n",
       "      <td>-0.032120</td>\n",
       "      <td>0.075216</td>\n",
       "      <td>0.000092</td>\n",
       "    </tr>\n",
       "    <tr>\n",
       "      <th>2020-10-01</th>\n",
       "      <td>10598.64</td>\n",
       "      <td>690.2</td>\n",
       "      <td>3380.80</td>\n",
       "      <td>0.10</td>\n",
       "      <td>-0.116799</td>\n",
       "      <td>-0.025039</td>\n",
       "      <td>-0.042236</td>\n",
       "      <td>0.000083</td>\n",
       "    </tr>\n",
       "    <tr>\n",
       "      <th>2020-11-01</th>\n",
       "      <td>13784.52</td>\n",
       "      <td>694.6</td>\n",
       "      <td>3269.96</td>\n",
       "      <td>0.09</td>\n",
       "      <td>0.262821</td>\n",
       "      <td>0.006355</td>\n",
       "      <td>-0.033335</td>\n",
       "      <td>0.000075</td>\n",
       "    </tr>\n",
       "    <tr>\n",
       "      <th>2020-12-01</th>\n",
       "      <td>18763.35</td>\n",
       "      <td>694.6</td>\n",
       "      <td>3662.45</td>\n",
       "      <td>0.09</td>\n",
       "      <td>0.308359</td>\n",
       "      <td>0.000000</td>\n",
       "      <td>0.113355</td>\n",
       "      <td>0.000075</td>\n",
       "    </tr>\n",
       "  </tbody>\n",
       "</table>\n",
       "</div>"
      ],
      "text/plain": [
       "            BitcoinPrice  GoldPrice   S&P500  RiskFreeRate  BitcoinReturns  \\\n",
       "2016-01-01        435.66      395.0  2043.94          0.26        0.183341   \n",
       "2016-02-01        371.33      412.4  1939.38          0.31       -0.159771   \n",
       "2016-03-01        433.08      451.2  1978.35          0.29        0.153831   \n",
       "2016-04-01        417.68      445.4  2072.78          0.23       -0.036207   \n",
       "2016-05-01        456.98      465.7  2065.30          0.27        0.089924   \n",
       "2016-06-01        534.84      441.3  2099.33          0.27        0.157328   \n",
       "2016-07-01        678.19      490.7  2102.95          0.30        0.237460   \n",
       "2016-08-01        605.20      490.1  2170.84          0.30       -0.113869   \n",
       "2016-09-01        573.02      484.6  2170.86          0.29       -0.054638   \n",
       "2016-10-01        615.65      461.2  2168.27          0.33        0.071758   \n",
       "2016-11-01        730.70      467.6  2111.72          0.45        0.171324   \n",
       "2016-12-01        754.00      422.7  2191.08          0.51        0.031389   \n",
       "2017-01-01        992.95      421.9  2238.83          0.51        0.275288   \n",
       "2017-02-01        992.75      437.2  2279.55          0.52       -0.000201   \n",
       "2017-03-01       1230.00      449.6  2395.96          0.74        0.214291   \n",
       "2017-04-01       1092.00      453.3  2362.72          0.80       -0.119003   \n",
       "2017-05-01       1436.50      450.4  2388.33          0.89        0.274199   \n",
       "2017-06-01       2419.99      463.0  2430.06          0.98        0.521554   \n",
       "2017-07-01       2423.63      441.9  2423.41          1.07        0.001503   \n",
       "2017-08-01       2732.59      457.9  2476.35          1.01        0.119983   \n",
       "2017-09-01       4947.99      484.7  2476.55          1.03        0.593732   \n",
       "2017-10-01       4394.81      459.6  2519.36          1.07       -0.118557   \n",
       "2017-11-01       6783.69      460.4  2579.36          1.23        0.434097   \n",
       "2017-12-01      10869.84      456.4  2642.22          1.32        0.471471   \n",
       "2018-01-01      13480.01      475.9  2673.61          1.41        0.215216   \n",
       "2018-02-01       9014.23      478.7  2821.98          1.57       -0.402403   \n",
       "2018-03-01      10895.92      479.1  2677.67          1.70        0.189584   \n",
       "2018-04-01       6816.01      482.0  2640.87          1.76       -0.469114   \n",
       "2018-05-01       9072.29      473.7  2654.80          1.86        0.285950   \n",
       "2018-06-01       7514.32      469.0  2734.62          1.90       -0.188414   \n",
       "2018-07-01       6349.50      453.1  2718.37          1.96       -0.168434   \n",
       "2018-08-01       7603.99      440.8  2813.36          2.03        0.180297   \n",
       "2018-09-01       7191.08      433.5  2901.52          2.13       -0.055832   \n",
       "2018-10-01       6572.83      434.5  2924.59          2.25       -0.089897   \n",
       "2018-11-01       6344.00      444.0  2740.37          2.33       -0.035435   \n",
       "2018-12-01       4142.01      448.7  2760.17          2.37       -0.426328   \n",
       "2019-01-01       3826.10      464.4  2506.85          2.37       -0.079335   \n",
       "2019-02-01       3437.50      475.9  2706.53          2.39       -0.107102   \n",
       "2019-03-01       3806.17      467.3  2803.69          2.40        0.101879   \n",
       "2019-04-01       4137.00      467.4  2867.19          2.38        0.083347   \n",
       "2019-05-01       5321.15      463.7  2923.73          2.35        0.251719   \n",
       "2019-06-01       8558.01      481.8  2752.06          2.17        0.475178   \n",
       "2019-07-01      10570.62      506.1  2964.33          2.10        0.211211   \n",
       "2019-08-01      10417.24      537.7  2953.56          1.95       -0.014616   \n",
       "2019-09-01       9769.64      554.7  2926.46          1.89       -0.064183   \n",
       "2019-10-01       8323.43      541.5  2940.25          1.65       -0.160205   \n",
       "2019-11-01       9268.00      539.2  3066.91          1.54        0.107493   \n",
       "2019-12-01       7413.84      533.9  3140.98          1.54       -0.223219   \n",
       "2020-01-01       7174.32      555.0  3230.78          1.52       -0.032841   \n",
       "2020-02-01       9375.06      568.1  3225.52          1.52        0.267545   \n",
       "2020-03-01       8490.30      595.4  2954.22          0.29       -0.099129   \n",
       "2020-04-01       6719.39      583.4  2470.50          0.14       -0.233927   \n",
       "2020-05-01       8813.90      617.3  2830.71          0.13        0.271333   \n",
       "2020-06-01      10212.38      620.8  3055.73          0.16        0.147271   \n",
       "2020-07-01       9239.09      642.6  3115.86          0.13       -0.100157   \n",
       "2020-08-01      11805.82      730.8  3271.12          0.10        0.245149   \n",
       "2020-09-01      11911.74      707.7  3526.65          0.11        0.008932   \n",
       "2020-10-01      10598.64      690.2  3380.80          0.10       -0.116799   \n",
       "2020-11-01      13784.52      694.6  3269.96          0.09        0.262821   \n",
       "2020-12-01      18763.35      694.6  3662.45          0.09        0.308359   \n",
       "\n",
       "            GoldReturns  S&PReturns  RiskFreeReturns  \n",
       "2016-01-01     0.026422   -0.028310         0.000217  \n",
       "2016-02-01     0.043108   -0.052511         0.000258  \n",
       "2016-03-01     0.089917    0.019895         0.000242  \n",
       "2016-04-01    -0.012938    0.046628         0.000192  \n",
       "2016-05-01     0.044569   -0.003615         0.000225  \n",
       "2016-06-01    -0.053817    0.016343         0.000225  \n",
       "2016-07-01     0.106108    0.001723         0.000250  \n",
       "2016-08-01    -0.001223    0.031773         0.000250  \n",
       "2016-09-01    -0.011286    0.000009         0.000242  \n",
       "2016-10-01    -0.049492   -0.001194         0.000275  \n",
       "2016-11-01     0.013781   -0.026427         0.000375  \n",
       "2016-12-01    -0.100951    0.036892         0.000425  \n",
       "2017-01-01    -0.001894    0.021559         0.000425  \n",
       "2017-02-01     0.035622    0.018025         0.000433  \n",
       "2017-03-01     0.027968    0.049806         0.000617  \n",
       "2017-04-01     0.008196   -0.013970         0.000667  \n",
       "2017-05-01    -0.006418    0.010781         0.000742  \n",
       "2017-06-01     0.027591    0.017322         0.000817  \n",
       "2017-07-01    -0.046643   -0.002740         0.000892  \n",
       "2017-08-01     0.035567    0.021610         0.000842  \n",
       "2017-09-01     0.056879    0.000081         0.000858  \n",
       "2017-10-01    -0.053174    0.017138         0.000892  \n",
       "2017-11-01     0.001739    0.023536         0.001025  \n",
       "2017-12-01    -0.008726    0.024078         0.001100  \n",
       "2018-01-01     0.041838    0.011810         0.001175  \n",
       "2018-02-01     0.005866    0.054009         0.001308  \n",
       "2018-03-01     0.000835   -0.052492         0.001417  \n",
       "2018-04-01     0.006035   -0.013839         0.001467  \n",
       "2018-05-01    -0.017370    0.005261         0.001550  \n",
       "2018-06-01    -0.009971    0.029623         0.001583  \n",
       "2018-07-01    -0.034490   -0.005960         0.001633  \n",
       "2018-08-01    -0.027522    0.034347         0.001692  \n",
       "2018-09-01    -0.016699    0.030855         0.001775  \n",
       "2018-10-01     0.002304    0.007920         0.001875  \n",
       "2018-11-01     0.021629   -0.065061         0.001942  \n",
       "2018-12-01     0.010530    0.007199         0.001975  \n",
       "2019-01-01     0.034392   -0.096265         0.001975  \n",
       "2019-02-01     0.024461    0.076640         0.001992  \n",
       "2019-03-01    -0.018236    0.035269         0.002000  \n",
       "2019-04-01     0.000214    0.022396         0.001983  \n",
       "2019-05-01    -0.007948    0.019528         0.001958  \n",
       "2019-06-01     0.038291   -0.060510         0.001808  \n",
       "2019-07-01     0.049205    0.074301         0.001750  \n",
       "2019-08-01     0.060567   -0.003640         0.001625  \n",
       "2019-09-01     0.031127   -0.009218         0.001575  \n",
       "2019-10-01    -0.024084    0.004701         0.001375  \n",
       "2019-11-01    -0.004257    0.042176         0.001283  \n",
       "2019-12-01    -0.009878    0.023864         0.001283  \n",
       "2020-01-01     0.038760    0.028189         0.001267  \n",
       "2020-02-01     0.023329   -0.001629         0.001267  \n",
       "2020-03-01     0.046936   -0.087860         0.000242  \n",
       "2020-04-01    -0.020360   -0.178814         0.000117  \n",
       "2020-05-01     0.056482    0.136107         0.000108  \n",
       "2020-06-01     0.005654    0.076491         0.000133  \n",
       "2020-07-01     0.034513    0.019487         0.000108  \n",
       "2020-08-01     0.128617    0.048627         0.000083  \n",
       "2020-09-01    -0.032120    0.075216         0.000092  \n",
       "2020-10-01    -0.025039   -0.042236         0.000083  \n",
       "2020-11-01     0.006355   -0.033335         0.000075  \n",
       "2020-12-01     0.000000    0.113355         0.000075  "
      ]
     },
     "execution_count": 249,
     "metadata": {},
     "output_type": "execute_result"
    }
   ],
   "source": [
    "df"
   ]
  },
  {
   "cell_type": "code",
   "execution_count": 250,
   "metadata": {},
   "outputs": [],
   "source": [
    "Rbt = df[\"BitcoinReturns\"]"
   ]
  },
  {
   "cell_type": "code",
   "execution_count": 251,
   "metadata": {},
   "outputs": [],
   "source": [
    "Rgt = df[\"GoldReturns\"]"
   ]
  },
  {
   "cell_type": "code",
   "execution_count": 252,
   "metadata": {},
   "outputs": [],
   "source": [
    "Rmt = df[\"S&PReturns\"]"
   ]
  },
  {
   "cell_type": "code",
   "execution_count": 253,
   "metadata": {},
   "outputs": [],
   "source": [
    "Rft = df[\"RiskFreeReturns\"]"
   ]
  },
  {
   "cell_type": "markdown",
   "metadata": {},
   "source": [
    "# 2.3 Data Analysis"
   ]
  },
  {
   "cell_type": "markdown",
   "metadata": {},
   "source": [
    "# Correlation Analysis"
   ]
  },
  {
   "cell_type": "code",
   "execution_count": 254,
   "metadata": {},
   "outputs": [],
   "source": [
    "BitoinandGoldCorr = Rbt.corr(Rgt)"
   ]
  },
  {
   "cell_type": "code",
   "execution_count": 255,
   "metadata": {},
   "outputs": [
    {
     "data": {
      "text/plain": [
       "0.232710105447172"
      ]
     },
     "execution_count": 255,
     "metadata": {},
     "output_type": "execute_result"
    }
   ],
   "source": [
    "BitoinandGoldCorr"
   ]
  },
  {
   "cell_type": "markdown",
   "metadata": {},
   "source": [
    "This means that Bitcoin and Gold have a postive correlation, but a reasonably weak one. Meaning that if the price of Gold were to increase then so would the price of Bitcoin. The price rise however, wouldn't be as much as the price rise of Gold"
   ]
  },
  {
   "cell_type": "code",
   "execution_count": 256,
   "metadata": {},
   "outputs": [],
   "source": [
    "BitcoinandMarketCorr = Rbt.corr(Rmt)"
   ]
  },
  {
   "cell_type": "code",
   "execution_count": 257,
   "metadata": {},
   "outputs": [
    {
     "data": {
      "text/plain": [
       "0.19641653217765134"
      ]
     },
     "execution_count": 257,
     "metadata": {},
     "output_type": "execute_result"
    }
   ],
   "source": [
    "BitcoinandMarketCorr"
   ]
  },
  {
   "cell_type": "markdown",
   "metadata": {},
   "source": [
    "Similar to above, Bitcoin and the market have a positive correlation. Such that if the market was to experience and increase then as would Bitcoin. But given the value of 0.187 the correlation can be considered to be quite weak, such that market movements won't be mirrored in Bitcoin"
   ]
  },
  {
   "cell_type": "markdown",
   "metadata": {},
   "source": [
    "The above values would suggest that the view that Bitcoin is a high risk high return asset is potentially more viable than the view of being an alternative asset to Gold. This is because if Gold is an alternative or a substitute for Bitcoin then you would expect to see a reasonably strong correlation betweeen the two, due to them theorectically performing the same function. With regards to the high risk high reward view new assset classes such as cryptocurrency that have a relatively low correlation with the market will tend to be considered to be high risk, i.e. you are taking a contrarian view of the market. On top of this Bitcoin's volatility as shown above in question 2.1 is considerable such that it will fit the high risk high return view. Given the large amounts of liquidity that is currently being pumped into global economies it is very unlikely that you would see a negative correlation between these asset classes."
   ]
  },
  {
   "cell_type": "markdown",
   "metadata": {},
   "source": [
    "# Regression Analysis"
   ]
  },
  {
   "cell_type": "markdown",
   "metadata": {},
   "source": [
    "Regression analysis of Bitcoin compared to the market"
   ]
  },
  {
   "cell_type": "code",
   "execution_count": 258,
   "metadata": {},
   "outputs": [],
   "source": [
    "y= Rbt- Rft"
   ]
  },
  {
   "cell_type": "code",
   "execution_count": 259,
   "metadata": {},
   "outputs": [],
   "source": [
    "X = Rmt - Rft"
   ]
  },
  {
   "cell_type": "code",
   "execution_count": 260,
   "metadata": {},
   "outputs": [],
   "source": [
    "from sklearn.linear_model import LinearRegression"
   ]
  },
  {
   "cell_type": "code",
   "execution_count": 261,
   "metadata": {},
   "outputs": [],
   "source": [
    "lr = LinearRegression()"
   ]
  },
  {
   "cell_type": "code",
   "execution_count": 262,
   "metadata": {},
   "outputs": [],
   "source": [
    "y = y.values.reshape(-1,1)"
   ]
  },
  {
   "cell_type": "code",
   "execution_count": 263,
   "metadata": {},
   "outputs": [
    {
     "data": {
      "text/plain": [
       "(60, 1)"
      ]
     },
     "execution_count": 263,
     "metadata": {},
     "output_type": "execute_result"
    }
   ],
   "source": [
    "y.shape"
   ]
  },
  {
   "cell_type": "code",
   "execution_count": 264,
   "metadata": {},
   "outputs": [],
   "source": [
    "X = X.values.reshape(-1,1)"
   ]
  },
  {
   "cell_type": "code",
   "execution_count": 265,
   "metadata": {},
   "outputs": [
    {
     "data": {
      "text/plain": [
       "(60, 1)"
      ]
     },
     "execution_count": 265,
     "metadata": {},
     "output_type": "execute_result"
    }
   ],
   "source": [
    "X.shape"
   ]
  },
  {
   "cell_type": "code",
   "execution_count": 266,
   "metadata": {},
   "outputs": [
    {
     "name": "stdout",
     "output_type": "stream",
     "text": [
      "[0.05721664] [[0.9161962]]\n"
     ]
    }
   ],
   "source": [
    "lr.fit(X, y)\n",
    "print(lr.intercept_, lr.coef_)"
   ]
  },
  {
   "cell_type": "markdown",
   "metadata": {},
   "source": [
    "The Alpha for Bitcoin is 0.0572 and the Beta is 0.916"
   ]
  },
  {
   "cell_type": "markdown",
   "metadata": {},
   "source": [
    "Alpha in CAPM is the measure of excess returns compared to the benchmark index, which is the S&P500. An Alpha of 0.0572 sugggests that Bitcoin provides a return of 5.72% over the S&P500."
   ]
  },
  {
   "cell_type": "markdown",
   "metadata": {},
   "source": [
    "Beta captures the risk profile of an assest compared to the market, which in this case is the S&P500. A Beta of 0.916 suggests that if the market was to experience a price rise of 100% then Bitcoin would rise 91.6%, in so suggesting that Bitcoin is less risky than the market over the time period in which we have conducted our analysis"
   ]
  },
  {
   "cell_type": "markdown",
   "metadata": {},
   "source": [
    "# Regression analysis of Gold compared to the market"
   ]
  },
  {
   "cell_type": "code",
   "execution_count": 267,
   "metadata": {},
   "outputs": [],
   "source": [
    "Y2 = Rgt-Rft"
   ]
  },
  {
   "cell_type": "code",
   "execution_count": 268,
   "metadata": {},
   "outputs": [],
   "source": [
    "Y2 = Y2.values.reshape(-1,1)"
   ]
  },
  {
   "cell_type": "markdown",
   "metadata": {},
   "source": [
    "We can use the same X value as above"
   ]
  },
  {
   "cell_type": "code",
   "execution_count": 269,
   "metadata": {},
   "outputs": [
    {
     "name": "stdout",
     "output_type": "stream",
     "text": [
      "[0.00891372] [[-0.00016823]]\n"
     ]
    }
   ],
   "source": [
    "lr.fit(X, Y2)\n",
    "print(lr.intercept_, lr.coef_)"
   ]
  },
  {
   "cell_type": "markdown",
   "metadata": {},
   "source": [
    "The Alpha for Gold is 0.0089 and the Beta is -0.000168923"
   ]
  },
  {
   "cell_type": "markdown",
   "metadata": {},
   "source": [
    "Alpha is as explained above the excess returns an asset experiences over and above the benchmark, which again in this case is the S&P500. A Alpha of 0.0089 suggests that Gold experiences excess returns over the S&P500 of 0.89%"
   ]
  },
  {
   "cell_type": "markdown",
   "metadata": {},
   "source": [
    "Beta as also explained above is a measure of risk of an asset, in this case we have a Beta for Gold that is nearly zero. Zero Beta assets have no correlation with the market and will have a similar rate of return to the risk free rate. This intuitively makes sense when you consider that Gold is a safe haven asset and is typically a counter cyclical instrument."
   ]
  },
  {
   "cell_type": "code",
   "execution_count": null,
   "metadata": {},
   "outputs": [],
   "source": []
  }
 ],
 "metadata": {
  "kernelspec": {
   "display_name": "Python 3",
   "language": "python",
   "name": "python3"
  },
  "language_info": {
   "codemirror_mode": {
    "name": "ipython",
    "version": 3
   },
   "file_extension": ".py",
   "mimetype": "text/x-python",
   "name": "python",
   "nbconvert_exporter": "python",
   "pygments_lexer": "ipython3",
   "version": "3.8.5"
  }
 },
 "nbformat": 4,
 "nbformat_minor": 4
}
